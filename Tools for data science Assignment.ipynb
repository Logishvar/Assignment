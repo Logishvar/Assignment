{
 "cells": [
  {
   "cell_type": "markdown",
   "id": "0d842a95",
   "metadata": {},
   "source": [
    "## My Jupyter Notebook on IBM Watson Studio\n",
    "\n"
   ]
  },
  {
   "cell_type": "markdown",
   "id": "dae3cae4",
   "metadata": {},
   "source": [
    "### Logishvar Vijayan\n",
    "Analyst"
   ]
  },
  {
   "cell_type": "markdown",
   "id": "3afb2eb9",
   "metadata": {},
   "source": [
    "_I Love data science because I love to analyse and create a story based on the insights from the data_"
   ]
  },
  {
   "cell_type": "markdown",
   "id": "68c30788",
   "metadata": {},
   "source": [
    "### The below code prints the sum of two numbers"
   ]
  },
  {
   "cell_type": "code",
   "execution_count": 10,
   "id": "363c1ad9",
   "metadata": {},
   "outputs": [
    {
     "name": "stdout",
     "output_type": "stream",
     "text": [
      "The sum of two numbers is 35\n"
     ]
    }
   ],
   "source": [
    "print(\"The sum of two numbers is\", 12+23)\n"
   ]
  },
  {
   "cell_type": "markdown",
   "id": "c3bae5e7",
   "metadata": {},
   "source": [
    "- one\n",
    "- two\n",
    "- three\n",
    "- four\n",
    "- five"
   ]
  },
  {
   "cell_type": "markdown",
   "id": "fa6b5ca6",
   "metadata": {},
   "source": [
    "www.coursera.com/datascince_course"
   ]
  },
  {
   "cell_type": "markdown",
   "id": "6e3f6688",
   "metadata": {},
   "source": [
    "<img arc=\"Capture.PNG\"/>"
   ]
  },
  {
   "cell_type": "markdown",
   "id": "042b2d18",
   "metadata": {},
   "source": [
    "1. Water\n",
    "2. Air\n",
    "3. Fire\n",
    "4. Land\n",
    "5. Atmosphere"
   ]
  },
  {
   "cell_type": "code",
   "execution_count": null,
   "id": "ed36f13d",
   "metadata": {},
   "outputs": [],
   "source": []
  }
 ],
 "metadata": {
  "kernelspec": {
   "display_name": "Python 3 (ipykernel)",
   "language": "python",
   "name": "python3"
  },
  "language_info": {
   "codemirror_mode": {
    "name": "ipython",
    "version": 3
   },
   "file_extension": ".py",
   "mimetype": "text/x-python",
   "name": "python",
   "nbconvert_exporter": "python",
   "pygments_lexer": "ipython3",
   "version": "3.9.7"
  }
 },
 "nbformat": 4,
 "nbformat_minor": 5
}
